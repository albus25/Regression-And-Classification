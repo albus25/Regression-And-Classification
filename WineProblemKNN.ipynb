{
 "cells": [
  {
   "cell_type": "code",
   "execution_count": 1,
   "metadata": {},
   "outputs": [
    {
     "data": {
      "text/html": [
       "<div>\n",
       "<style scoped>\n",
       "    .dataframe tbody tr th:only-of-type {\n",
       "        vertical-align: middle;\n",
       "    }\n",
       "\n",
       "    .dataframe tbody tr th {\n",
       "        vertical-align: top;\n",
       "    }\n",
       "\n",
       "    .dataframe thead th {\n",
       "        text-align: right;\n",
       "    }\n",
       "</style>\n",
       "<table border=\"1\" class=\"dataframe\">\n",
       "  <thead>\n",
       "    <tr style=\"text-align: right;\">\n",
       "      <th></th>\n",
       "      <th>fixed acidity</th>\n",
       "      <th>volatile acidity</th>\n",
       "      <th>citric acid</th>\n",
       "      <th>residual sugar</th>\n",
       "      <th>chlorides</th>\n",
       "      <th>free sulfur dioxide</th>\n",
       "      <th>total sulfur dioxide</th>\n",
       "      <th>density</th>\n",
       "      <th>pH</th>\n",
       "      <th>sulphates</th>\n",
       "      <th>alcohol</th>\n",
       "      <th>quality</th>\n",
       "    </tr>\n",
       "  </thead>\n",
       "  <tbody>\n",
       "    <tr>\n",
       "      <th>4893</th>\n",
       "      <td>6.2</td>\n",
       "      <td>0.21</td>\n",
       "      <td>0.29</td>\n",
       "      <td>1.6</td>\n",
       "      <td>0.039</td>\n",
       "      <td>24.0</td>\n",
       "      <td>92.0</td>\n",
       "      <td>0.99114</td>\n",
       "      <td>3.27</td>\n",
       "      <td>0.50</td>\n",
       "      <td>11.2</td>\n",
       "      <td>6</td>\n",
       "    </tr>\n",
       "    <tr>\n",
       "      <th>4894</th>\n",
       "      <td>6.6</td>\n",
       "      <td>0.32</td>\n",
       "      <td>0.36</td>\n",
       "      <td>8.0</td>\n",
       "      <td>0.047</td>\n",
       "      <td>57.0</td>\n",
       "      <td>168.0</td>\n",
       "      <td>0.99490</td>\n",
       "      <td>3.15</td>\n",
       "      <td>0.46</td>\n",
       "      <td>9.6</td>\n",
       "      <td>5</td>\n",
       "    </tr>\n",
       "    <tr>\n",
       "      <th>4895</th>\n",
       "      <td>6.5</td>\n",
       "      <td>0.24</td>\n",
       "      <td>0.19</td>\n",
       "      <td>1.2</td>\n",
       "      <td>0.041</td>\n",
       "      <td>30.0</td>\n",
       "      <td>111.0</td>\n",
       "      <td>0.99254</td>\n",
       "      <td>2.99</td>\n",
       "      <td>0.46</td>\n",
       "      <td>9.4</td>\n",
       "      <td>6</td>\n",
       "    </tr>\n",
       "    <tr>\n",
       "      <th>4896</th>\n",
       "      <td>5.5</td>\n",
       "      <td>0.29</td>\n",
       "      <td>0.30</td>\n",
       "      <td>1.1</td>\n",
       "      <td>0.022</td>\n",
       "      <td>20.0</td>\n",
       "      <td>110.0</td>\n",
       "      <td>0.98869</td>\n",
       "      <td>3.34</td>\n",
       "      <td>0.38</td>\n",
       "      <td>12.8</td>\n",
       "      <td>7</td>\n",
       "    </tr>\n",
       "    <tr>\n",
       "      <th>4897</th>\n",
       "      <td>6.0</td>\n",
       "      <td>0.21</td>\n",
       "      <td>0.38</td>\n",
       "      <td>0.8</td>\n",
       "      <td>0.020</td>\n",
       "      <td>22.0</td>\n",
       "      <td>98.0</td>\n",
       "      <td>0.98941</td>\n",
       "      <td>3.26</td>\n",
       "      <td>0.32</td>\n",
       "      <td>11.8</td>\n",
       "      <td>6</td>\n",
       "    </tr>\n",
       "  </tbody>\n",
       "</table>\n",
       "</div>"
      ],
      "text/plain": [
       "      fixed acidity  volatile acidity  citric acid  residual sugar  chlorides  \\\n",
       "4893            6.2              0.21         0.29             1.6      0.039   \n",
       "4894            6.6              0.32         0.36             8.0      0.047   \n",
       "4895            6.5              0.24         0.19             1.2      0.041   \n",
       "4896            5.5              0.29         0.30             1.1      0.022   \n",
       "4897            6.0              0.21         0.38             0.8      0.020   \n",
       "\n",
       "      free sulfur dioxide  total sulfur dioxide  density    pH  sulphates  \\\n",
       "4893                 24.0                  92.0  0.99114  3.27       0.50   \n",
       "4894                 57.0                 168.0  0.99490  3.15       0.46   \n",
       "4895                 30.0                 111.0  0.99254  2.99       0.46   \n",
       "4896                 20.0                 110.0  0.98869  3.34       0.38   \n",
       "4897                 22.0                  98.0  0.98941  3.26       0.32   \n",
       "\n",
       "      alcohol  quality  \n",
       "4893     11.2        6  \n",
       "4894      9.6        5  \n",
       "4895      9.4        6  \n",
       "4896     12.8        7  \n",
       "4897     11.8        6  "
      ]
     },
     "execution_count": 1,
     "metadata": {},
     "output_type": "execute_result"
    }
   ],
   "source": [
    "import pandas as pd\n",
    "import numpy as np\n",
    "\n",
    "data = pd.read_csv(r\"D:\\Study\\SEM-IX\\ML\\Practical\\Internal\\Files\\winequality-white.csv\",\";\")\n",
    "data.tail()"
   ]
  },
  {
   "cell_type": "code",
   "execution_count": 12,
   "metadata": {},
   "outputs": [],
   "source": [
    "x = data.iloc[:,0:11].values\n",
    "y = data.iloc[:,11].values.reshape(-1,1)"
   ]
  },
  {
   "cell_type": "code",
   "execution_count": 13,
   "metadata": {},
   "outputs": [],
   "source": [
    "from sklearn.model_selection import train_test_split\n",
    "x_train,x_test,y_train,y_test = train_test_split(x,y,test_size=0.2)"
   ]
  },
  {
   "cell_type": "code",
   "execution_count": 14,
   "metadata": {},
   "outputs": [],
   "source": [
    "from sklearn.preprocessing import StandardScaler\n",
    "sc_x = StandardScaler()"
   ]
  },
  {
   "cell_type": "code",
   "execution_count": 16,
   "metadata": {},
   "outputs": [],
   "source": [
    "x_train = sc_x.fit_transform(x_train)\n",
    "x_test = sc_x.transform(x_test)"
   ]
  },
  {
   "cell_type": "code",
   "execution_count": 17,
   "metadata": {},
   "outputs": [
    {
     "data": {
      "text/plain": [
       "31.304951684997057"
      ]
     },
     "execution_count": 17,
     "metadata": {},
     "output_type": "execute_result"
    }
   ],
   "source": [
    "import math\n",
    "math.sqrt(len(y_test))"
   ]
  },
  {
   "cell_type": "code",
   "execution_count": 22,
   "metadata": {},
   "outputs": [
    {
     "name": "stderr",
     "output_type": "stream",
     "text": [
      "<ipython-input-22-83bb222c76ba>:3: DataConversionWarning: A column-vector y was passed when a 1d array was expected. Please change the shape of y to (n_samples, ), for example using ravel().\n",
      "  clf.fit(x_train,y_train)\n"
     ]
    },
    {
     "data": {
      "text/plain": [
       "KNeighborsClassifier(metric='euclidean', n_neighbors=31, p=4)"
      ]
     },
     "execution_count": 22,
     "metadata": {},
     "output_type": "execute_result"
    }
   ],
   "source": [
    "from sklearn.neighbors import KNeighborsClassifier\n",
    "clf = KNeighborsClassifier(n_neighbors=31,p=4,metric='euclidean')\n",
    "clf.fit(x_train,y_train)"
   ]
  },
  {
   "cell_type": "code",
   "execution_count": 23,
   "metadata": {},
   "outputs": [
    {
     "data": {
      "text/plain": [
       "array([6, 5, 6, 6, 5, 6, 5, 5, 5, 6, 6, 5, 5, 5, 5, 5, 5, 6, 6, 5, 5, 5,\n",
       "       6, 5, 6, 6, 6, 5, 6, 5, 5, 5, 5, 5, 6, 5, 6, 5, 6, 6, 5, 5, 5, 5,\n",
       "       5, 6, 5, 5, 6, 5, 5, 6, 6, 6, 6, 6, 6, 5, 6, 5, 6, 6, 5, 5, 5, 5,\n",
       "       5, 6, 5, 6, 5, 6, 6, 5, 6, 6, 5, 6, 6, 6, 6, 6, 6, 5, 5, 6, 5, 5,\n",
       "       6, 5, 6, 5, 5, 6, 5, 5, 5, 5, 6, 5, 6, 6, 5, 5, 5, 5, 5, 6, 5, 5,\n",
       "       5, 5, 5, 5, 5, 6, 6, 5, 6, 6, 5, 6, 5, 5, 5, 6, 5, 5, 5, 6, 5, 5,\n",
       "       5, 5, 6, 6, 5, 5, 6, 5, 5, 6, 6, 6, 5, 6, 6, 6, 6, 5, 5, 5, 6, 5,\n",
       "       6, 6, 5, 5, 5, 6, 5, 6, 6, 5, 5, 6, 5, 6, 5, 6, 5, 5, 6, 6, 6, 6,\n",
       "       6, 5, 6, 5, 6, 5, 6, 5, 5, 6, 6, 5, 5, 5, 5, 5, 6, 5, 5, 6, 5, 5,\n",
       "       5, 5, 6, 6, 6, 6, 6, 6, 5, 6, 5, 5, 5, 6, 6, 5, 5, 5, 6, 6, 6, 6,\n",
       "       5, 6, 6, 6, 6, 6, 6, 6, 5, 6, 5, 5, 5, 5, 6, 5, 6, 6, 5, 5, 6, 5,\n",
       "       5, 6, 5, 5, 5, 6, 5, 5, 5, 6, 6, 6, 5, 5, 5, 6, 6, 5, 5, 6, 6, 5,\n",
       "       5, 5, 5, 6, 6, 5, 6, 6, 6, 5, 5, 5, 5, 5, 5, 6, 5, 6, 5, 6, 6, 6,\n",
       "       5, 6, 5, 5, 5, 5, 5, 5, 5, 6, 5, 5, 5, 5, 5, 5, 5, 6, 6, 6, 5, 5,\n",
       "       6, 5, 6, 5, 6, 6, 5, 6, 5, 6, 6, 6, 6, 6, 6, 5, 5, 5, 5, 5, 5, 5,\n",
       "       6, 6, 5, 6, 6, 6, 6, 5, 6, 5, 6, 5, 6, 5, 5, 5, 5, 5, 6, 5, 6, 6,\n",
       "       5, 6, 6, 5, 6, 6, 6, 6, 6, 5, 5, 6, 6, 5, 6, 5, 6, 6, 5, 5, 6, 6,\n",
       "       5, 5, 5, 6, 5, 5, 6, 6, 5, 5, 6, 6, 6, 6, 6, 5, 5, 5, 5, 5, 5, 5,\n",
       "       5, 5, 5, 6, 5, 6, 5, 6, 6, 5, 6, 6, 6, 5, 5, 6, 5, 6, 5, 5, 6, 5,\n",
       "       5, 5, 5, 6, 5, 6, 5, 6, 5, 5, 6, 6, 6, 5, 6, 6, 6, 6, 6, 5, 6, 6,\n",
       "       6, 5, 5, 6, 6, 5, 5, 5, 5, 5, 6, 6, 6, 6, 5, 6, 5, 5, 6, 5, 6, 5,\n",
       "       5, 5, 5, 6, 6, 6, 6, 6, 5, 5, 6, 6, 6, 6, 6, 5, 5, 6, 6, 5, 6, 6,\n",
       "       5, 6, 6, 6, 5, 5, 6, 6, 6, 6, 5, 5, 5, 5, 5, 5, 5, 5, 5, 5, 5, 6,\n",
       "       6, 5, 6, 6, 6, 5, 5, 6, 6, 5, 6, 5, 6, 5, 6, 5, 5, 6, 6, 6, 6, 5,\n",
       "       6, 5, 5, 5, 6, 5, 5, 5, 5, 5, 6, 6, 5, 6, 6, 6, 5, 6, 5, 5, 5, 6,\n",
       "       5, 5, 6, 6, 5, 5, 6, 5, 5, 6, 5, 6, 5, 6, 5, 6, 6, 5, 6, 6, 5, 5,\n",
       "       6, 5, 6, 6, 5, 5, 5, 5, 6, 5, 5, 5, 5, 6, 5, 6, 5, 6, 6, 5, 6, 5,\n",
       "       5, 5, 6, 5, 5, 6, 5, 6, 5, 6, 5, 5, 6, 5, 6, 5, 6, 6, 6, 6, 6, 6,\n",
       "       5, 5, 5, 5, 5, 6, 5, 5, 6, 5, 6, 5, 5, 5, 5, 5, 5, 5, 5, 5, 6, 6,\n",
       "       5, 5, 5, 6, 5, 6, 5, 5, 5, 6, 5, 5, 5, 6, 6, 6, 5, 6, 5, 6, 6, 6,\n",
       "       5, 5, 5, 6, 5, 5, 6, 6, 5, 6, 5, 5, 5, 6, 5, 5, 6, 6, 6, 6, 6, 5,\n",
       "       6, 6, 5, 5, 6, 6, 6, 6, 6, 5, 6, 6, 6, 6, 5, 5, 6, 6, 6, 6, 6, 5,\n",
       "       6, 6, 5, 6, 5, 5, 5, 5, 6, 5, 6, 6, 5, 5, 5, 6, 5, 6, 5, 5, 6, 5,\n",
       "       6, 6, 6, 5, 6, 6, 5, 5, 5, 6, 5, 5, 6, 5, 5, 6, 6, 5, 6, 5, 5, 5,\n",
       "       6, 5, 6, 5, 6, 6, 5, 5, 5, 5, 5, 5, 5, 6, 6, 6, 5, 6, 6, 5, 6, 6,\n",
       "       6, 6, 5, 6, 5, 6, 6, 6, 5, 5, 6, 5, 5, 5, 6, 6, 6, 6, 6, 6, 6, 6,\n",
       "       6, 5, 6, 5, 5, 6, 5, 5, 6, 6, 6, 5, 5, 6, 6, 5, 6, 5, 5, 5, 6, 5,\n",
       "       5, 5, 6, 6, 6, 5, 6, 6, 5, 5, 5, 6, 6, 5, 5, 5, 6, 6, 6, 5, 5, 5,\n",
       "       6, 5, 5, 6, 5, 5, 6, 6, 6, 6, 6, 5, 6, 6, 6, 5, 6, 6, 5, 5, 5, 5,\n",
       "       5, 5, 6, 6, 6, 6, 5, 6, 6, 6, 6, 5, 5, 6, 5, 5, 5, 6, 6, 6, 5, 5,\n",
       "       5, 5, 6, 6, 5, 6, 5, 6, 5, 6, 6, 5, 6, 6, 5, 6, 6, 6, 6, 5, 6, 6,\n",
       "       5, 5, 6, 6, 6, 5, 5, 5, 5, 5, 6, 5, 5, 5, 5, 6, 5, 5, 6, 5, 5, 5,\n",
       "       5, 5, 6, 5, 6, 5, 5, 6, 6, 6, 6, 5, 6, 5, 5, 6, 5, 5, 6, 5, 5, 5,\n",
       "       5, 5, 6, 6, 6, 6, 6, 5, 6, 5, 6, 5, 5, 6, 6, 6, 6, 6, 5, 6, 6, 6,\n",
       "       6, 5, 6, 5, 5, 5, 5, 6, 6, 6, 6, 6], dtype=int64)"
      ]
     },
     "execution_count": 23,
     "metadata": {},
     "output_type": "execute_result"
    }
   ],
   "source": [
    "y_pred = clf.predict(x_test)\n",
    "y_pred"
   ]
  },
  {
   "cell_type": "code",
   "execution_count": 25,
   "metadata": {},
   "outputs": [
    {
     "data": {
      "text/plain": [
       "array([[  0,   0,   2,   0,   0,   0,   0],\n",
       "       [  0,   0,  13,   8,   0,   0,   0],\n",
       "       [  0,   0, 190, 121,   0,   0,   0],\n",
       "       [  0,   0, 222, 209,   0,   0,   0],\n",
       "       [  0,   0,  68, 109,   0,   0,   0],\n",
       "       [  0,   0,  14,  22,   0,   0,   0],\n",
       "       [  0,   0,   2,   0,   0,   0,   0]], dtype=int64)"
      ]
     },
     "execution_count": 25,
     "metadata": {},
     "output_type": "execute_result"
    }
   ],
   "source": [
    "from sklearn.metrics import confusion_matrix\n",
    "cm = confusion_matrix(y_test,y_pred)\n",
    "cm"
   ]
  },
  {
   "cell_type": "code",
   "execution_count": 26,
   "metadata": {},
   "outputs": [
    {
     "name": "stdout",
     "output_type": "stream",
     "text": [
      "0.40714285714285714\n"
     ]
    }
   ],
   "source": [
    "from sklearn.metrics import accuracy_score\n",
    "print(accuracy_score(y_test,y_pred))"
   ]
  },
  {
   "cell_type": "code",
   "execution_count": null,
   "metadata": {},
   "outputs": [],
   "source": []
  }
 ],
 "metadata": {
  "kernelspec": {
   "display_name": "Python 3",
   "language": "python",
   "name": "python3"
  },
  "language_info": {
   "codemirror_mode": {
    "name": "ipython",
    "version": 3
   },
   "file_extension": ".py",
   "mimetype": "text/x-python",
   "name": "python",
   "nbconvert_exporter": "python",
   "pygments_lexer": "ipython3",
   "version": "3.8.5"
  }
 },
 "nbformat": 4,
 "nbformat_minor": 4
}
